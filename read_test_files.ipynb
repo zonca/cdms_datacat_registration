{
 "cells": [
  {
   "cell_type": "code",
   "execution_count": 3,
   "id": "6230e4f3-a981-4a4f-8472-ca243778426b",
   "metadata": {},
   "outputs": [],
   "source": [
    "from pathlib import Path"
   ]
  },
  {
   "cell_type": "code",
   "execution_count": 4,
   "id": "6d0b2cdb-7394-4b57-9183-bc1f495dc405",
   "metadata": {},
   "outputs": [],
   "source": [
    "folder = Path(\"/cvmfs/data/CDMS/test_datacat_sim_registration\")"
   ]
  },
  {
   "cell_type": "code",
   "execution_count": 5,
   "id": "97bc2c05-f4dc-4afe-8343-22e24e59a5af",
   "metadata": {},
   "outputs": [
    {
     "name": "stdout",
     "output_type": "stream",
     "text": [
      "total 278M\n",
      "drwxr-xr-x 2 jovyan users 4.0K Oct 13 17:14 \u001b[0m\u001b[01;34m.\u001b[0m/\n",
      "drwxrwxrwx 9 root   root  4.0K Oct 13 17:14 \u001b[34;42m..\u001b[0m/\n",
      "-rw-r--r-- 1 jovyan users 277M Oct 13 17:12 WIMP_zip_Zip_iZIP7_51220523_0000.root\n",
      "-rw-r--r-- 1 jovyan users 697K Oct 13 17:12 WIMP_zip_Zip_iZIP7_51220523_0000.txt\n"
     ]
    }
   ],
   "source": [
    "%ls -lah $folder"
   ]
  },
  {
   "cell_type": "code",
   "execution_count": 9,
   "id": "73b31276-fd1b-443b-a214-b9dbf1760912",
   "metadata": {},
   "outputs": [],
   "source": [
    "# !cat $folder/*.txt"
   ]
  },
  {
   "cell_type": "code",
   "execution_count": 8,
   "id": "b89962df-d700-475b-bb1b-91b4cb59db1f",
   "metadata": {},
   "outputs": [],
   "source": [
    "root_file_path = folder / \"WIMP_zip_Zip_iZIP7_51220523_0000.root\""
   ]
  },
  {
   "cell_type": "code",
   "execution_count": 7,
   "id": "ed035544-a6bc-4590-93b1-f376ca772cbb",
   "metadata": {},
   "outputs": [
    {
     "name": "stdout",
     "output_type": "stream",
     "text": [
      "Welcome to JupyROOT 6.26/06\n"
     ]
    }
   ],
   "source": [
    "import ROOT"
   ]
  },
  {
   "cell_type": "code",
   "execution_count": 10,
   "id": "86b1c3d6-a7f3-4779-9e75-779e0fe6fc86",
   "metadata": {},
   "outputs": [],
   "source": [
    "root_file = ROOT.TFile.Open(str(root_file_path))"
   ]
  },
  {
   "cell_type": "code",
   "execution_count": 13,
   "id": "9521921b-3488-4824-828c-194c22548a03",
   "metadata": {},
   "outputs": [
    {
     "name": "stdout",
     "output_type": "stream",
     "text": [
      "TFile**\t\t/cvmfs/data/CDMS/test_datacat_sim_registration/WIMP_zip_Zip_iZIP7_51220523_0000.root\t\n",
      " TFile*\t\t/cvmfs/data/CDMS/test_datacat_sim_registration/WIMP_zip_Zip_iZIP7_51220523_0000.root\t\n",
      "  KEY: TDirectoryFile\tG4SimDir;1\tG4SimDir\n",
      "  KEY: TDirectoryFile\tG4SettingsInfoDir;1\tG4SettingsInfoDir\n"
     ]
    }
   ],
   "source": [
    "root_file.ls()"
   ]
  },
  {
   "cell_type": "code",
   "execution_count": 16,
   "id": "7ba11530-54df-48f3-8e59-2ff44804cacc",
   "metadata": {},
   "outputs": [
    {
     "name": "stdout",
     "output_type": "stream",
     "text": [
      "TDirectoryFile*\t\tG4SimDir\tG4SimDir\n",
      " KEY: TTree\tg4dmcTES;9\tG4DMC TES simulation channel pulses [current cycle]\n",
      " KEY: TTree\tg4dmcTES;8\tG4DMC TES simulation channel pulses [backup cycle]\n",
      " KEY: TTree\tg4dmcFET;2\tG4DMC FET simulation channel pulses [current cycle]\n",
      " KEY: TTree\tg4dmcFET;1\tG4DMC FET simulation channel pulses [backup cycle]\n",
      " KEY: TTree\tmczip0;1\tG4 data for tree mczip0\n",
      " KEY: TTree\twimpsim;1\tConfiguration of WimpSim generator\n",
      " KEY: TTree\tg4dmcEvent;1\tG4DMC channel hit totals\n",
      " KEY: TTree\tg4dmcHits;1\tSummary of G4CMP energy deposits\n",
      " KEY: TTree\tmcprimary;1\tG4 simulated primary info\n",
      " KEY: TTree\tmcevent;1\tG4 simulated event info\n"
     ]
    }
   ],
   "source": [
    "root_file.G4SimDir.ls()"
   ]
  },
  {
   "cell_type": "code",
   "execution_count": 26,
   "id": "d871d9ee-a839-4ea2-8202-53acad9a96d4",
   "metadata": {},
   "outputs": [
    {
     "name": "stdout",
     "output_type": "stream",
     "text": [
      "OBJ: TTree\tg4dmcTES\tG4DMC TES simulation channel pulses : 0 at: 0x563c8a2d8e80\n"
     ]
    }
   ],
   "source": [
    "root_file.G4SimDir.g4dmcTES.ls()"
   ]
  },
  {
   "cell_type": "code",
   "execution_count": 47,
   "id": "2de84431-2b38-4cb1-b0d6-3409d2af0cfe",
   "metadata": {},
   "outputs": [],
   "source": [
    "df = ROOT.RDataFrame(\"G4SimDir/g4dmcTES\", str(root_file_path))"
   ]
  },
  {
   "cell_type": "code",
   "execution_count": 48,
   "id": "98af4155-2941-49f2-b233-7bc9964777d6",
   "metadata": {},
   "outputs": [
    {
     "data": {
      "text/plain": [
       "'{ \"BinWidth\", \"ChanName\", \"ChanNum\", \"ChanType\", \"DataType\", \"DetNum\", \"DetType\", \"EventNum\", \"T0\", \"Trace\", \"Units\" }'"
      ]
     },
     "execution_count": 48,
     "metadata": {},
     "output_type": "execute_result"
    }
   ],
   "source": [
    "str(df.GetColumnNames())"
   ]
  },
  {
   "cell_type": "code",
   "execution_count": 49,
   "id": "5d797c68-c952-4d47-8288-0d7c1639fdfa",
   "metadata": {},
   "outputs": [
    {
     "data": {
      "text/plain": [
       "{'BinWidth': ndarray([1600., 1600., 1600., ..., 1600., 1600., 1600.]),\n",
       " 'ChanName': ndarray([<cppyy.gbl.ROOT.VecOps.RVec<char> object at 0x563c9f50f450>,\n",
       "          <cppyy.gbl.ROOT.VecOps.RVec<char> object at 0x563c9f50f490>,\n",
       "          <cppyy.gbl.ROOT.VecOps.RVec<char> object at 0x563c9f50f4d0>, ...,\n",
       "          <cppyy.gbl.ROOT.VecOps.RVec<char> object at 0x563c9f686390>,\n",
       "          <cppyy.gbl.ROOT.VecOps.RVec<char> object at 0x563c9f6863d0>,\n",
       "          <cppyy.gbl.ROOT.VecOps.RVec<char> object at 0x563c9f686410>],\n",
       "         dtype=object),\n",
       " 'ChanNum': ndarray([ 0.,  1.,  2., ...,  9., 10., 11.]),\n",
       " 'ChanType': ndarray([1., 1., 1., ..., 1., 1., 1.]),\n",
       " 'DataType': ndarray([0., 0., 0., ..., 0., 0., 0.]),\n",
       " 'DetNum': ndarray([0., 0., 0., ..., 0., 0., 0.]),\n",
       " 'DetType': ndarray([700., 700., 700., ..., 700., 700., 700.]),\n",
       " 'EventNum': ndarray([   0.,    0.,    0., ..., 1999., 1999., 1999.]),\n",
       " 'T0': ndarray([-409600., -409600., -409600., ..., -409600., -409600., -409600.]),\n",
       " 'Trace': ndarray([<cppyy.gbl.ROOT.VecOps.RVec<double> object at 0x563c9f70f460>,\n",
       "          <cppyy.gbl.ROOT.VecOps.RVec<double> object at 0x563c9f70f4b0>,\n",
       "          <cppyy.gbl.ROOT.VecOps.RVec<double> object at 0x563c9f70f500>,\n",
       "          ...,\n",
       "          <cppyy.gbl.ROOT.VecOps.RVec<double> object at 0x563c9f8e3f70>,\n",
       "          <cppyy.gbl.ROOT.VecOps.RVec<double> object at 0x563c9f8e3fc0>,\n",
       "          <cppyy.gbl.ROOT.VecOps.RVec<double> object at 0x563c9f8e4010>],\n",
       "         dtype=object),\n",
       " 'Units': ndarray([<cppyy.gbl.ROOT.VecOps.RVec<char> object at 0x563c8f2d1eb0>,\n",
       "          <cppyy.gbl.ROOT.VecOps.RVec<char> object at 0x563c8f2d1ef0>,\n",
       "          <cppyy.gbl.ROOT.VecOps.RVec<char> object at 0x563c8f2d1f30>, ...,\n",
       "          <cppyy.gbl.ROOT.VecOps.RVec<char> object at 0x563c8f448df0>,\n",
       "          <cppyy.gbl.ROOT.VecOps.RVec<char> object at 0x563c8f448e30>,\n",
       "          <cppyy.gbl.ROOT.VecOps.RVec<char> object at 0x563c8f448e70>],\n",
       "         dtype=object)}"
      ]
     },
     "execution_count": 49,
     "metadata": {},
     "output_type": "execute_result"
    }
   ],
   "source": [
    "df.AsNumpy()"
   ]
  },
  {
   "cell_type": "code",
   "execution_count": 17,
   "id": "3ee21bdb-4f34-4c28-9fcf-ed968b78a054",
   "metadata": {},
   "outputs": [
    {
     "name": "stdout",
     "output_type": "stream",
     "text": [
      "TDirectoryFile*\t\tG4SettingsInfoDir\tG4SettingsInfoDir\n",
      " KEY: TMacro\tRandomEngine;1\t\n",
      " KEY: TMacro\tSuperSim_Aliases;1\t\n",
      " KEY: TMacro\tSuperSim_Macro;1\t\n",
      " KEY: TTree\tVersions;1\tVersion tags for software packages\n",
      " KEY: TMacro\tGit_Tags;1\t\n",
      " KEY: TMacro\tG4CMP_Version;1\t\n",
      " KEY: TMacro\tGeant4_Version;1\t\n",
      " KEY: TMacro\tGeant4_Env;1\t\n",
      " KEY: TTree\tGeometry;1\tDetector crystal layout and structure\n",
      " KEY: TTree\truntime;1\tCPU usage information for run\n"
     ]
    }
   ],
   "source": [
    "root_file.G4SettingsInfoDir.ls()"
   ]
  },
  {
   "cell_type": "code",
   "execution_count": null,
   "id": "02919efb-7b8d-40a8-8d7c-70a1730ed749",
   "metadata": {},
   "outputs": [],
   "source": []
  }
 ],
 "metadata": {
  "kernelspec": {
   "display_name": "microroot",
   "language": "python",
   "name": "microroot"
  },
  "language_info": {
   "codemirror_mode": {
    "name": "ipython",
    "version": 3
   },
   "file_extension": ".py",
   "mimetype": "text/x-python",
   "name": "python",
   "nbconvert_exporter": "python",
   "pygments_lexer": "ipython3",
   "version": "3.8.13"
  }
 },
 "nbformat": 4,
 "nbformat_minor": 5
}
